{
 "cells": [
  {
   "cell_type": "markdown",
   "metadata": {},
   "source": [
    "## The most basic end-to-end pipeline "
   ]
  },
  {
   "cell_type": "markdown",
   "metadata": {},
   "source": [
    "Required user inputs:\n",
    "\n",
    "- Which constellation (Sentinel1, Sentinel2). Also provide support (i.e. default STAC metadata) for other collections? \n",
    "- Which bands --> for S2, allow option to chose distance_to_cloud or scl_dilation_mask as a band\n",
    "- Temporal extent\n",
    "- Reference dataset --> Require standardized input format?\n",
    "- Patch (if so, which size/shape?) or point?\n",
    "- Which openEO backend(s)"
   ]
  },
  {
   "cell_type": "markdown",
   "metadata": {},
   "source": [
    "## Reference data\n",
    "\n",
    "First of all, the reference data needs to be read in and used to split the jobs. "
   ]
  },
  {
   "cell_type": "markdown",
   "metadata": {},
   "source": [
    "## Extractions\n",
    "\n",
    "First we need do do some extractions based on reference data. Here already a lot of variety is possible. We distinguish between point and patch extractions.\n",
    "\n",
    "### Point Extractions"
   ]
  },
  {
   "cell_type": "markdown",
   "metadata": {},
   "source": []
  },
  {
   "cell_type": "code",
   "execution_count": 1,
   "metadata": {},
   "outputs": [],
   "source": [
    "# Some user defined parameters\n",
    "temporal_extent = [\"2019-01-01\", \"2019-07-01\"]\n",
    "collection = \"SENTINEL2_L2A\"  # These names are standardized in GFMap\n",
    "bands = [\"B02\", \"B03\", \"B04\"]  # These names are standardized in GFMap\n",
    "backend = \"openeo.vito.be\"  # This name is standardized in GFMap"
   ]
  },
  {
   "cell_type": "code",
   "execution_count": 3,
   "metadata": {},
   "outputs": [
    {
     "name": "stdout",
     "output_type": "stream",
     "text": [
      "Authenticated using refresh token.\n"
     ]
    }
   ],
   "source": [
    "import openeo\n",
    "c = openeo.connect(backend).authenticate_oidc()\n",
    "raw_extraction = c.load_collection(collection_id=collection, \n",
    "                                   bands=bands, \n",
    "                                   temporal_extent=temporal_extent)"
   ]
  },
  {
   "cell_type": "markdown",
   "metadata": {},
   "source": [
    "Here the user already has a lot of choices:\n",
    "- Do they want to extract the raw data without any form of preprocessing? \n",
    "- Do they want to perform some form of compositing?\n",
    "- Do they want to perform some cloud masking?\n",
    "- Do they want to apply extra features on top of the vanilla bands?\n",
    "\n",
    "So in GFMap there should be the option do immediately do a raw extraction in patch or point form, where only the raw bands are extracted (possible to add distance_to_cloud and cloud_mask). In this option the user extracts data that still has a time dimension.\n",
    "There should also be the option to first perform preprocessing and feature computation (do we set a default, does the user have to specify? what about bespoke methods like Presto?) and only then do the extractions. In this option the user extracts data without time dimension.\n",
    "\n",
    "It should also be possible (like in worldcereal e.g.) that the user does both of the above. First extract raw, then load in again with `load_stac`, and only then do feature computation and extract again. "
   ]
  },
  {
   "cell_type": "markdown",
   "metadata": {},
   "source": [
    "Let's for now do feature computation and only then extractions."
   ]
  },
  {
   "cell_type": "code",
   "execution_count": 4,
   "metadata": {},
   "outputs": [],
   "source": [
    "from openeo.processes import ProcessBuilder, array_concat\n",
    "\n",
    "# Calculate for each band the 10%, 50% and 90% quantiles and the standard deviation\n",
    "def compute_features(input_timeseries:ProcessBuilder):\n",
    "    return array_concat(input_timeseries.quantiles(probabilities=[0.1,0.5,0.9]),input_timeseries.sd())\n",
    "\n",
    "# Use apply_dimension to remove the time dimension and map the quantiles to the band dimension\n",
    "# Linear_scale_range is used to ensure the datatype is int8\n",
    "features = raw_extraction.apply_dimension(dimension='t',target_dimension='bands', process=compute_features).apply(lambda x: x.linear_scale_range(0,250,0,250))\n",
    "\n",
    "# Finally, rename the bands to reflect the computed features\n",
    "all_bands = [band + \"_\" + stat for band in raw_extraction.metadata.band_names for stat in [\"p10\",\"p50\",\"p90\",\"sd\"]]\n",
    "features = features.rename_labels('bands',all_bands)"
   ]
  },
  {
   "cell_type": "code",
   "execution_count": 5,
   "metadata": {},
   "outputs": [
    {
     "data": {
      "text/plain": [
       "['B02_p10',\n",
       " 'B02_p50',\n",
       " 'B02_p90',\n",
       " 'B02_sd',\n",
       " 'B03_p10',\n",
       " 'B03_p50',\n",
       " 'B03_p90',\n",
       " 'B03_sd',\n",
       " 'B04_p10',\n",
       " 'B04_p50',\n",
       " 'B04_p90',\n",
       " 'B04_sd']"
      ]
     },
     "execution_count": 5,
     "metadata": {},
     "output_type": "execute_result"
    }
   ],
   "source": [
    "all_bands"
   ]
  },
  {
   "cell_type": "code",
   "execution_count": null,
   "metadata": {},
   "outputs": [],
   "source": []
  }
 ],
 "metadata": {
  "kernelspec": {
   "display_name": "openeo-app",
   "language": "python",
   "name": "openeo-app"
  },
  "language_info": {
   "codemirror_mode": {
    "name": "ipython",
    "version": 3
   },
   "file_extension": ".py",
   "mimetype": "text/x-python",
   "name": "python",
   "nbconvert_exporter": "python",
   "pygments_lexer": "ipython3",
   "version": "3.9.18"
  }
 },
 "nbformat": 4,
 "nbformat_minor": 2
}
