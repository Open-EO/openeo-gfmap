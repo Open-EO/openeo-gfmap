{
 "cells": [
  {
   "cell_type": "markdown",
   "metadata": {},
   "source": [
    "# OpenEO GFMap: Local execution of framework\n",
    "\n",
    "As the framework is also aiming for a local execution of OpenEO, let's test the local environment by loading the data from a STAC catalogue."
   ]
  },
  {
   "cell_type": "code",
   "execution_count": 1,
   "metadata": {},
   "outputs": [
    {
     "data": {
      "text/plain": [
       "('urn:eop:VITO:TERRASCOPE_S2_TOC_V2',\n",
       " 'Sentinel-2 Top of Canopy (TOC) Products (tiles) - V2')"
      ]
     },
     "execution_count": 1,
     "metadata": {},
     "output_type": "execute_result"
    }
   ],
   "source": [
    "import openeo\n",
    "from pystac_client import Client\n",
    "\n",
    "# Do not need a connection to a backend, but to rely on the STAC catalogue and do everything locally.\n",
    "\n",
    "catalog = Client.open('https://services.terrascope.be/stac/')\n",
    "collection = catalog.get_collection(collection_id='urn:eop:VITO:TERRASCOPE_S2_TOC_V2')\n",
    "collection_href = collection.links[0].absolute_href\n",
    "\n",
    "collection.id, collection.title"
   ]
  },
  {
   "cell_type": "code",
   "execution_count": 12,
   "metadata": {},
   "outputs": [
    {
     "data": {
      "text/plain": [
       "'https://services.terrascope.be/stac/collections/urn:eop:VITO:TERRASCOPE_S2_TOC_V2'"
      ]
     },
     "execution_count": 12,
     "metadata": {},
     "output_type": "execute_result"
    }
   ],
   "source": [
    "collection_href"
   ]
  },
  {
   "cell_type": "code",
   "execution_count": 23,
   "metadata": {},
   "outputs": [
    {
     "name": "stderr",
     "output_type": "stream",
     "text": [
      "/home/couchard/miniconda3/envs/gfmap/lib/python3.9/site-packages/stackstac/prepare.py:408: UserWarning: The argument 'infer_datetime_format' is deprecated and will be removed in a future version. A strict version of it is now the default, see https://pandas.pydata.org/pdeps/0004-consistent-to-datetime-parsing.html. You can safely remove this argument.\n",
      "  times = pd.to_datetime(\n"
     ]
    },
    {
     "ename": "KeyError",
     "evalue": "'Process array_interpolate_linear not found in namespace predefined!'",
     "output_type": "error",
     "traceback": [
      "\u001b[0;31m---------------------------------------------------------------------------\u001b[0m",
      "\u001b[0;31mKeyError\u001b[0m                                  Traceback (most recent call last)",
      "\u001b[1;32m/home/couchard/Private/openeo-gfmap/notebook/0_openeo_local.ipynb Cell 4\u001b[0m line \u001b[0;36m6\n\u001b[1;32m     <a href='vscode-notebook-cell://ssh-remote%2Bcouchard/home/couchard/Private/openeo-gfmap/notebook/0_openeo_local.ipynb#W4sdnNjb2RlLXJlbW90ZQ%3D%3D?line=63'>64</a>\u001b[0m cube \u001b[39m=\u001b[39m cube\u001b[39m.\u001b[39mapply_dimension(dimension\u001b[39m=\u001b[39m\u001b[39m'\u001b[39m\u001b[39mtime\u001b[39m\u001b[39m'\u001b[39m, process\u001b[39m=\u001b[39m\u001b[39m'\u001b[39m\u001b[39marray_interpolate_linear\u001b[39m\u001b[39m'\u001b[39m)\n\u001b[1;32m     <a href='vscode-notebook-cell://ssh-remote%2Bcouchard/home/couchard/Private/openeo-gfmap/notebook/0_openeo_local.ipynb#W4sdnNjb2RlLXJlbW90ZQ%3D%3D?line=65'>66</a>\u001b[0m \u001b[39m# download the data\u001b[39;00m\n\u001b[0;32m---> <a href='vscode-notebook-cell://ssh-remote%2Bcouchard/home/couchard/Private/openeo-gfmap/notebook/0_openeo_local.ipynb#W4sdnNjb2RlLXJlbW90ZQ%3D%3D?line=66'>67</a>\u001b[0m cube \u001b[39m=\u001b[39m cube\u001b[39m.\u001b[39;49mexecute()\n\u001b[1;32m     <a href='vscode-notebook-cell://ssh-remote%2Bcouchard/home/couchard/Private/openeo-gfmap/notebook/0_openeo_local.ipynb#W4sdnNjb2RlLXJlbW90ZQ%3D%3D?line=67'>68</a>\u001b[0m cube\n",
      "File \u001b[0;32m~/miniconda3/envs/gfmap/lib/python3.9/site-packages/openeo/rest/datacube.py:2167\u001b[0m, in \u001b[0;36mDataCube.execute\u001b[0;34m(self)\u001b[0m\n\u001b[1;32m   2165\u001b[0m \u001b[39mdef\u001b[39;00m \u001b[39mexecute\u001b[39m(\u001b[39mself\u001b[39m) \u001b[39m-\u001b[39m\u001b[39m>\u001b[39m \u001b[39mdict\u001b[39m:\n\u001b[1;32m   2166\u001b[0m \u001b[39m    \u001b[39m\u001b[39m\"\"\"Executes the process graph of the imagery. \"\"\"\u001b[39;00m\n\u001b[0;32m-> 2167\u001b[0m     \u001b[39mreturn\u001b[39;00m \u001b[39mself\u001b[39;49m\u001b[39m.\u001b[39;49m_connection\u001b[39m.\u001b[39;49mexecute(\u001b[39mself\u001b[39;49m\u001b[39m.\u001b[39;49mflat_graph())\n",
      "File \u001b[0;32m~/miniconda3/envs/gfmap/lib/python3.9/site-packages/openeo/local/connection.py:264\u001b[0m, in \u001b[0;36mLocalConnection.execute\u001b[0;34m(self, process_graph)\u001b[0m\n\u001b[1;32m    257\u001b[0m \u001b[39m\u001b[39m\u001b[39m\"\"\"\u001b[39;00m\n\u001b[1;32m    258\u001b[0m \u001b[39mExecute locally the process graph and return the result as an xarray.DataArray.\u001b[39;00m\n\u001b[1;32m    259\u001b[0m \n\u001b[1;32m    260\u001b[0m \u001b[39m:param process_graph: (flat) dict representing a process graph, or process graph as raw JSON string,\u001b[39;00m\n\u001b[1;32m    261\u001b[0m \u001b[39m:return: a datacube containing the requested data\u001b[39;00m\n\u001b[1;32m    262\u001b[0m \u001b[39m\"\"\"\u001b[39;00m\n\u001b[1;32m    263\u001b[0m process_graph \u001b[39m=\u001b[39m as_flat_graph(process_graph)\n\u001b[0;32m--> 264\u001b[0m \u001b[39mreturn\u001b[39;00m OpenEOProcessGraph(process_graph)\u001b[39m.\u001b[39;49mto_callable(PROCESS_REGISTRY)()\n",
      "File \u001b[0;32m~/miniconda3/envs/gfmap/lib/python3.9/site-packages/openeo_pg_parser_networkx/graph.py:318\u001b[0m, in \u001b[0;36mOpenEOProcessGraph.to_callable\u001b[0;34m(self, process_registry, results_cache, parameters)\u001b[0m\n\u001b[1;32m    309\u001b[0m \u001b[39mdef\u001b[39;00m \u001b[39mto_callable\u001b[39m(\n\u001b[1;32m    310\u001b[0m     \u001b[39mself\u001b[39m,\n\u001b[1;32m    311\u001b[0m     process_registry: \u001b[39mdict\u001b[39m,\n\u001b[1;32m    312\u001b[0m     results_cache: Optional[\u001b[39mdict\u001b[39m] \u001b[39m=\u001b[39m \u001b[39mNone\u001b[39;00m,\n\u001b[1;32m    313\u001b[0m     parameters: Optional[\u001b[39mdict\u001b[39m] \u001b[39m=\u001b[39m \u001b[39mNone\u001b[39;00m,\n\u001b[1;32m    314\u001b[0m ) \u001b[39m-\u001b[39m\u001b[39m>\u001b[39m Callable:\n\u001b[1;32m    315\u001b[0m \u001b[39m    \u001b[39m\u001b[39m\"\"\"\u001b[39;00m\n\u001b[1;32m    316\u001b[0m \u001b[39m    Map the entire graph to a nested callable.\u001b[39;00m\n\u001b[1;32m    317\u001b[0m \u001b[39m    \"\"\"\u001b[39;00m\n\u001b[0;32m--> 318\u001b[0m     \u001b[39mreturn\u001b[39;00m \u001b[39mself\u001b[39;49m\u001b[39m.\u001b[39;49m_map_node_to_callable(\n\u001b[1;32m    319\u001b[0m         \u001b[39mself\u001b[39;49m\u001b[39m.\u001b[39;49mresult_node, process_registry, results_cache, parameters\n\u001b[1;32m    320\u001b[0m     )\n",
      "File \u001b[0;32m~/miniconda3/envs/gfmap/lib/python3.9/site-packages/openeo_pg_parser_networkx/graph.py:355\u001b[0m, in \u001b[0;36mOpenEOProcessGraph._map_node_to_callable\u001b[0;34m(self, node, process_registry, results_cache, named_parameters)\u001b[0m\n\u001b[1;32m    353\u001b[0m         parent_callables\u001b[39m.\u001b[39mappend(parent_callable)\n\u001b[1;32m    354\u001b[0m     \u001b[39melif\u001b[39;00m data[\u001b[39m\"\u001b[39m\u001b[39mreference_type\u001b[39m\u001b[39m\"\u001b[39m] \u001b[39m==\u001b[39m PGEdgeType\u001b[39m.\u001b[39mCallback:\n\u001b[0;32m--> 355\u001b[0m         callback \u001b[39m=\u001b[39m \u001b[39mself\u001b[39;49m\u001b[39m.\u001b[39;49m_map_node_to_callable(\n\u001b[1;32m    356\u001b[0m             source_node,\n\u001b[1;32m    357\u001b[0m             process_registry\u001b[39m=\u001b[39;49mprocess_registry,\n\u001b[1;32m    358\u001b[0m             results_cache\u001b[39m=\u001b[39;49mresults_cache,\n\u001b[1;32m    359\u001b[0m             named_parameters\u001b[39m=\u001b[39;49mnamed_parameters,\n\u001b[1;32m    360\u001b[0m         )\n\u001b[1;32m    361\u001b[0m         static_parameters[data[\u001b[39m\"\u001b[39m\u001b[39marg_name\u001b[39m\u001b[39m\"\u001b[39m]] \u001b[39m=\u001b[39m callback\n\u001b[1;32m    363\u001b[0m prebaked_process_impl \u001b[39m=\u001b[39m partial(\n\u001b[1;32m    364\u001b[0m     process_impl, named_parameters\u001b[39m=\u001b[39mnamed_parameters, \u001b[39m*\u001b[39m\u001b[39m*\u001b[39mstatic_parameters\n\u001b[1;32m    365\u001b[0m )\n",
      "File \u001b[0;32m~/miniconda3/envs/gfmap/lib/python3.9/site-packages/openeo_pg_parser_networkx/graph.py:340\u001b[0m, in \u001b[0;36mOpenEOProcessGraph._map_node_to_callable\u001b[0;34m(self, node, process_registry, results_cache, named_parameters)\u001b[0m\n\u001b[1;32m    337\u001b[0m     named_parameters \u001b[39m=\u001b[39m {}\n\u001b[1;32m    339\u001b[0m node_with_data \u001b[39m=\u001b[39m \u001b[39mself\u001b[39m\u001b[39m.\u001b[39mG\u001b[39m.\u001b[39mnodes(data\u001b[39m=\u001b[39m\u001b[39mTrue\u001b[39;00m)[node]\n\u001b[0;32m--> 340\u001b[0m process_impl \u001b[39m=\u001b[39m process_registry[node_with_data[\u001b[39m\"\u001b[39;49m\u001b[39mprocess_id\u001b[39;49m\u001b[39m\"\u001b[39;49m]]\u001b[39m.\u001b[39mimplementation\n\u001b[1;32m    342\u001b[0m static_parameters \u001b[39m=\u001b[39m node_with_data[\u001b[39m\"\u001b[39m\u001b[39mresolved_kwargs\u001b[39m\u001b[39m\"\u001b[39m]\n\u001b[1;32m    343\u001b[0m parent_callables \u001b[39m=\u001b[39m []\n",
      "File \u001b[0;32m~/miniconda3/envs/gfmap/lib/python3.9/site-packages/openeo_pg_parser_networkx/process_registry.py:49\u001b[0m, in \u001b[0;36mProcessRegistry.__getitem__\u001b[0;34m(self, key)\u001b[0m\n\u001b[1;32m     47\u001b[0m             \u001b[39mreturn\u001b[39;00m \u001b[39mself\u001b[39m\u001b[39m.\u001b[39mstore[t_namespace][t_key]\n\u001b[1;32m     48\u001b[0m         \u001b[39melse\u001b[39;00m:\n\u001b[0;32m---> 49\u001b[0m             \u001b[39mraise\u001b[39;00m \u001b[39mKeyError\u001b[39;00m(\n\u001b[1;32m     50\u001b[0m                 \u001b[39mf\u001b[39m\u001b[39m\"\u001b[39m\u001b[39mProcess \u001b[39m\u001b[39m{\u001b[39;00mt_key\u001b[39m}\u001b[39;00m\u001b[39m not found in namespace \u001b[39m\u001b[39m{\u001b[39;00mt_namespace\u001b[39m}\u001b[39;00m\u001b[39m!\u001b[39m\u001b[39m\"\u001b[39m\n\u001b[1;32m     51\u001b[0m             )\n\u001b[1;32m     52\u001b[0m \u001b[39melse\u001b[39;00m:\n\u001b[1;32m     53\u001b[0m     \u001b[39mraise\u001b[39;00m \u001b[39mKeyError\u001b[39;00m(\u001b[39mf\u001b[39m\u001b[39m\"\u001b[39m\u001b[39mNamespace \u001b[39m\u001b[39m{\u001b[39;00mt_namespace\u001b[39m}\u001b[39;00m\u001b[39m not found in process registry!\u001b[39m\u001b[39m\"\u001b[39m)\n",
      "\u001b[0;31mKeyError\u001b[0m: 'Process array_interpolate_linear not found in namespace predefined!'"
     ]
    }
   ],
   "source": [
    "from openeo.local import LocalConnection\n",
    "from datetime import datetime, timedelta\n",
    "\n",
    "connection = LocalConnection('./resources/')\n",
    "\n",
    "SPATIAL_EXTENT = {\n",
    "    \"west\": 4.1488819,\n",
    "    \"south\": 51.285309,\n",
    "    \"east\": 4.1775545,\n",
    "    \"north\": 51.3032902,\n",
    "    \"crs\": \"EPSG:4326\"\n",
    "}\n",
    "\n",
    "# Summer 2023\n",
    "TEMPORAL_EXTENT = [\"2022-06-21\", \"2022-09-23\"]\n",
    "\n",
    "cube = connection.load_stac(\n",
    "    'https://earth-search.aws.element84.com/v1/collections/sentinel-2-l2a',\n",
    "    spatial_extent=SPATIAL_EXTENT,\n",
    "    temporal_extent=TEMPORAL_EXTENT,\n",
    "    bands=['green', 'blue', 'red', 'nir', 'scl']\n",
    ")\n",
    "\n",
    "# Perform the scl mask dilation\n",
    "\n",
    "# IS NOT WORKING: Process does not exists, need to find a replacement\n",
    "cube = cube.process(\n",
    "    'mask_scl_dilation',\n",
    "    data=cube,\n",
    "    scl_band_name='scl',\n",
    "    kernel1_size=17,\n",
    "    kernel2_size=77,\n",
    "    mask1_values=[2, 4, 5, 6, 7],\n",
    "    mask2_values=[3, 8, 9, 10, 11],\n",
    "    erosion_kernel_size=3\n",
    ").filter_bands(['green', 'blue', 'red', 'nir'])\n",
    "\n",
    "# Perform temporal compositing\n",
    "compositing_dates = []\n",
    "\n",
    "date_format = '%Y-%m-%d'\n",
    "\n",
    "start_date = datetime.strptime(TEMPORAL_EXTENT[0], date_format)\n",
    "end_date = datetime.strptime(TEMPORAL_EXTENT[-1], date_format)\n",
    "\n",
    "# Difference\n",
    "n_days = (end_date - start_date).days\n",
    "interval_days = 10\n",
    "\n",
    "date = start_date\n",
    "while date + timedelta(days=interval_days) < end_date:\n",
    "    compositing_dates.append([\n",
    "        date.strftime(date_format),\n",
    "        (date + timedelta(days=interval_days)).strftime(date_format)\n",
    "    ])\n",
    "    date = date + timedelta(days=interval_days)\n",
    "\n",
    "# IS NOT WORKING either\n",
    "cube = cube.aggregate_temporal(intervals=compositing_dates, reducer='median')\n",
    "\n",
    "\n",
    "# Interpolate linear\n",
    "\n",
    "cube = cube.apply_dimension(dimension='time', process='array_interpolate_linear')\n",
    "\n",
    "# download the data\n",
    "cube = cube.execute()\n",
    "cube"
   ]
  },
  {
   "cell_type": "code",
   "execution_count": 17,
   "metadata": {},
   "outputs": [
    {
     "ename": "AttributeError",
     "evalue": "'LocalConnection' object has no attribute 'list_processes'",
     "output_type": "error",
     "traceback": [
      "\u001b[0;31m---------------------------------------------------------------------------\u001b[0m",
      "\u001b[0;31mAttributeError\u001b[0m                            Traceback (most recent call last)",
      "\u001b[1;32m/home/couchard/Private/openeo-gfmap/notebook/0_openeo_local.ipynb Cell 5\u001b[0m line \u001b[0;36m1\n\u001b[0;32m----> <a href='vscode-notebook-cell://ssh-remote%2Bcouchard/home/couchard/Private/openeo-gfmap/notebook/0_openeo_local.ipynb#X10sdnNjb2RlLXJlbW90ZQ%3D%3D?line=0'>1</a>\u001b[0m connection\u001b[39m.\u001b[39;49mlist_processes()\n",
      "\u001b[0;31mAttributeError\u001b[0m: 'LocalConnection' object has no attribute 'list_processes'"
     ]
    }
   ],
   "source": [
    "connection.list_processes()"
   ]
  }
 ],
 "metadata": {
  "kernelspec": {
   "display_name": "gfmap",
   "language": "python",
   "name": "python3"
  },
  "language_info": {
   "codemirror_mode": {
    "name": "ipython",
    "version": 3
   },
   "file_extension": ".py",
   "mimetype": "text/x-python",
   "name": "python",
   "nbconvert_exporter": "python",
   "pygments_lexer": "ipython3",
   "version": "3.9.18"
  }
 },
 "nbformat": 4,
 "nbformat_minor": 2
}
