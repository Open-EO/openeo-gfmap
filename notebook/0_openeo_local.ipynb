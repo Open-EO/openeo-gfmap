{
 "cells": [
  {
   "cell_type": "markdown",
   "metadata": {},
   "source": [
    "# OpenEO GFMap: Local execution of framework\n",
    "\n",
    "As the framework is also aiming for a local execution of OpenEO, let's test the local environment by loading the data from a STAC catalogue."
   ]
  },
  {
   "cell_type": "code",
   "execution_count": null,
   "metadata": {},
   "outputs": [],
   "source": [
    "import openeo\n",
    "from pystac_client import Client\n",
    "\n",
    "# Do not need a connection to a backend, but to rely on the STAC catalogue and do everything locally.\n",
    "\n",
    "catalog = Client.open('https://services.terrascope.be/stac/')\n",
    "collection = catalog.get_collection(collection_id='urn:eop:VITO:TERRASCOPE_S2_TOC_V2')\n",
    "collection_href = collection.links[0].absolute_href\n",
    "\n",
    "collection.id, collection.title"
   ]
  },
  {
   "cell_type": "code",
   "execution_count": null,
   "metadata": {},
   "outputs": [
    {
     "data": {
      "text/plain": [
       "'https://services.terrascope.be/stac/collections/urn:eop:VITO:TERRASCOPE_S2_TOC_V2'"
      ]
     },
     "execution_count": 12,
     "metadata": {},
     "output_type": "execute_result"
    }
   ],
   "source": [
    "collection_href"
   ]
  },
  {
   "cell_type": "code",
   "execution_count": 4,
   "metadata": {},
   "outputs": [
    {
     "name": "stderr",
     "output_type": "stream",
     "text": [
      "/home/couchard/miniconda3/envs/gfmap/lib/python3.9/site-packages/stackstac/prepare.py:408: UserWarning: The argument 'infer_datetime_format' is deprecated and will be removed in a future version. A strict version of it is now the default, see https://pandas.pydata.org/pdeps/0004-consistent-to-datetime-parsing.html. You can safely remove this argument.\n",
      "  times = pd.to_datetime(\n",
      "/home/couchard/miniconda3/envs/gfmap/lib/python3.9/site-packages/stackstac/prepare.py:408: UserWarning: The argument 'infer_datetime_format' is deprecated and will be removed in a future version. A strict version of it is now the default, see https://pandas.pydata.org/pdeps/0004-consistent-to-datetime-parsing.html. You can safely remove this argument.\n",
      "  times = pd.to_datetime(\n"
     ]
    }
   ],
   "source": [
    "from openeo.local import LocalConnection\n",
    "from datetime import datetime, timedelta\n",
    "\n",
    "connection = LocalConnection('./resources/')\n",
    "\n",
    "SPATIAL_EXTENT = {\n",
    "    \"west\": 4.1488819,\n",
    "    \"south\": 51.285309,\n",
    "    \"east\": 4.1775545,\n",
    "    \"north\": 51.3032902,\n",
    "    \"crs\": \"EPSG:4326\"\n",
    "}\n",
    "\n",
    "# Summer 2023\n",
    "TEMPORAL_EXTENT = [\"2022-06-21\", \"2022-09-23\"]\n",
    "\n",
    "cube = connection.load_stac(\n",
    "    'https://earth-search.aws.element84.com/v1/collections/sentinel-2-l2a',\n",
    "    spatial_extent=SPATIAL_EXTENT,\n",
    "    temporal_extent=TEMPORAL_EXTENT,\n",
    "    bands=['green', 'blue', 'red', 'nir', 'scl']\n",
    ")\n",
    "\n",
    "cube = cube.execute()"
   ]
  },
  {
   "cell_type": "code",
   "execution_count": 7,
   "metadata": {},
   "outputs": [
    {
     "data": {
      "text/plain": [
       "'0.23.0'"
      ]
     },
     "execution_count": 7,
     "metadata": {},
     "output_type": "execute_result"
    }
   ],
   "source": [
    "openeo.client_version()"
   ]
  },
  {
   "cell_type": "code",
   "execution_count": null,
   "metadata": {},
   "outputs": [],
   "source": [
    "# Perform the scl mask dilation\n",
    "\n",
    "# IS NOT WORKING: Process does not exists, need to find a replacement\n",
    "cube = cube.process(\n",
    "    'mask_scl_dilation',\n",
    "    data=cube,\n",
    "    scl_band_name='scl',\n",
    "    kernel1_size=17,\n",
    "    kernel2_size=77,\n",
    "    mask1_values=[2, 4, 5, 6, 7],\n",
    "    mask2_values=[3, 8, 9, 10, 11],\n",
    "    erosion_kernel_size=3\n",
    ").filter_bands(['green', 'blue', 'red', 'nir'])\n",
    "\n",
    "# Perform temporal compositing\n",
    "compositing_dates = []\n",
    "\n",
    "date_format = '%Y-%m-%d'\n",
    "\n",
    "start_date = datetime.strptime(TEMPORAL_EXTENT[0], date_format)\n",
    "end_date = datetime.strptime(TEMPORAL_EXTENT[-1], date_format)\n",
    "\n",
    "# Difference\n",
    "n_days = (end_date - start_date).days\n",
    "interval_days = 10\n",
    "\n",
    "date = start_date\n",
    "while date + timedelta(days=interval_days) < end_date:\n",
    "    compositing_dates.append([\n",
    "        date.strftime(date_format),\n",
    "        (date + timedelta(days=interval_days)).strftime(date_format)\n",
    "    ])\n",
    "    date = date + timedelta(days=interval_days)\n",
    "\n",
    "# IS NOT WORKING either\n",
    "cube = cube.aggregate_temporal(intervals=compositing_dates, reducer='median')\n",
    "\n",
    "\n",
    "# Interpolate linear\n",
    "\n",
    "cube = cube.apply_dimension(dimension='time', process='array_interpolate_linear')\n",
    "\n",
    "# download the data\n",
    "cube = cube.execute()\n",
    "cube"
   ]
  }
 ],
 "metadata": {
  "kernelspec": {
   "display_name": "gfmap",
   "language": "python",
   "name": "python3"
  },
  "language_info": {
   "codemirror_mode": {
    "name": "ipython",
    "version": 3
   },
   "file_extension": ".py",
   "mimetype": "text/x-python",
   "name": "python",
   "nbconvert_exporter": "python",
   "pygments_lexer": "ipython3",
   "version": "3.9.18"
  }
 },
 "nbformat": 4,
 "nbformat_minor": 2
}
