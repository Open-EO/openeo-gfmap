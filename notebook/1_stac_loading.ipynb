{
 "cells": [
  {
   "cell_type": "markdown",
   "metadata": {},
   "source": [
    "# Loading STAC data using an OpenEO backend"
   ]
  },
  {
   "cell_type": "code",
   "execution_count": 2,
   "metadata": {},
   "outputs": [
    {
     "name": "stdout",
     "output_type": "stream",
     "text": [
      "Authenticated using refresh token.\n"
     ]
    },
    {
     "data": {
      "text/html": [
       "\n",
       "    <script>\n",
       "    if (!window.customElements || !window.customElements.get('openeo-collection')) {\n",
       "        var el = document.createElement('script');\n",
       "        el.src = \"https://cdn.jsdelivr.net/npm/@openeo/vue-components@2/assets/openeo.min.js\";\n",
       "        document.head.appendChild(el);\n",
       "\n",
       "        var font = document.createElement('font');\n",
       "        font.as = \"font\";\n",
       "        font.type = \"font/woff2\";\n",
       "        font.crossOrigin = true;\n",
       "        font.href = \"https://use.fontawesome.com/releases/v5.13.0/webfonts/fa-solid-900.woff2\"\n",
       "        document.head.appendChild(font);\n",
       "    }\n",
       "    </script>\n",
       "    <openeo-collection>\n",
       "        <script type=\"application/json\">{\"mapOptions\": {}, \"data\": {\"cube:dimensions\": {\"bands\": {\"type\": \"bands\", \"values\": [\"B01\", \"B02\", \"B03\", \"B04\", \"B05\", \"B06\", \"B07\", \"B08\", \"B8A\", \"B09\", \"B11\", \"B12\", \"AOT\", \"SCL\", \"SNW\", \"CLD\", \"CLP\", \"CLM\", \"sunAzimuthAngles\", \"sunZenithAngles\", \"viewAzimuthMean\", \"viewZenithMean\", \"dataMask\", \"relativeAzimuthAngles\", \"viewZenithAngles\"]}, \"t\": {\"extent\": [\"2015-07-06T00:00:00Z\", null], \"type\": \"temporal\"}, \"x\": {\"axis\": \"x\", \"extent\": [-180, 180], \"reference_system\": {\"$schema\": \"https://proj.org/schemas/v0.2/projjson.schema.json\", \"area\": \"World\", \"bbox\": {\"east_longitude\": 180, \"north_latitude\": 90, \"south_latitude\": -90, \"west_longitude\": -180}, \"coordinate_system\": {\"axis\": [{\"abbreviation\": \"Lat\", \"direction\": \"north\", \"name\": \"Geodetic latitude\", \"unit\": \"degree\"}, {\"abbreviation\": \"Lon\", \"direction\": \"east\", \"name\": \"Geodetic longitude\", \"unit\": \"degree\"}], \"subtype\": \"ellipsoidal\"}, \"datum\": {\"ellipsoid\": {\"inverse_flattening\": 298.257223563, \"name\": \"WGS 84\", \"semi_major_axis\": 6378137}, \"name\": \"World Geodetic System 1984\", \"type\": \"GeodeticReferenceFrame\"}, \"id\": {\"authority\": \"OGC\", \"code\": \"Auto42001\", \"version\": \"1.3\"}, \"name\": \"AUTO 42001 (Universal Transverse Mercator)\", \"type\": \"GeodeticCRS\"}, \"step\": 10, \"type\": \"spatial\"}, \"y\": {\"axis\": \"y\", \"extent\": [-56, 83], \"reference_system\": {\"$schema\": \"https://proj.org/schemas/v0.2/projjson.schema.json\", \"area\": \"World\", \"bbox\": {\"east_longitude\": 180, \"north_latitude\": 90, \"south_latitude\": -90, \"west_longitude\": -180}, \"coordinate_system\": {\"axis\": [{\"abbreviation\": \"Lat\", \"direction\": \"north\", \"name\": \"Geodetic latitude\", \"unit\": \"degree\"}, {\"abbreviation\": \"Lon\", \"direction\": \"east\", \"name\": \"Geodetic longitude\", \"unit\": \"degree\"}], \"subtype\": \"ellipsoidal\"}, \"datum\": {\"ellipsoid\": {\"inverse_flattening\": 298.257223563, \"name\": \"WGS 84\", \"semi_major_axis\": 6378137}, \"name\": \"World Geodetic System 1984\", \"type\": \"GeodeticReferenceFrame\"}, \"id\": {\"authority\": \"OGC\", \"code\": \"Auto42001\", \"version\": \"1.3\"}, \"name\": \"AUTO 42001 (Universal Transverse Mercator)\", \"type\": \"GeodeticCRS\"}, \"step\": 10, \"type\": \"spatial\"}}, \"description\": \"[Sentinel-2 Level 2A](https://docs.terrascope.be/#/DataProducts/Sentinel-2/Level2A/Level2A) product, processed from L1C by Sen2Cor. \\n Use the [Terrascope viewer](https://viewer.terrascope.be/?language=nl&bbox=0.9339867511378304,50.14520994379217,6.207424251137831,51.77292299745045&overlay=false&bgLayer=MapBox&date=2019-02-25T03:17:15.000Z&layer=CGS_S2_RADIOMETRY) to explore the data. \\n\\n \", \"extent\": {\"spatial\": {\"bbox\": [[-180, -56, 180, 83], [-180, -56, 180, 83]]}, \"temporal\": {\"interval\": [[\"2015-07-06T00:00:00Z\", null], [\"2016-11-01T00:00:00Z\", null]]}}, \"id\": \"SENTINEL2_L2A\", \"keywords\": [\"VITO\", \"TERRASCOPE\", \"COPERNICUS\", \"ESA\", \"Orthoimagery\", \"Sentinel-2\", \"MSI\", \"Level-2A\", \"Radiometry\", \"Plant Resource\", \"TOC\"], \"license\": \"proprietary\", \"links\": [{\"href\": \"https://sentinel.esa.int/documents/247904/690755/Sentinel_Data_Legal_Notice\", \"rel\": \"license\"}, {\"href\": \"https://services.terrascope.be/catalogue/description?collection=urn:eop:VITO:TERRASCOPE_S2_TOC_V2\", \"rel\": \"alternate\"}, {\"href\": \"https://viewer.terrascope.be/?language=nl&bbox=0.9339867511378304,50.14520994379217,6.207424251137831,51.77292299745045&overlay=false&bgLayer=MapBox&date=2019-02-25T03:17:15.000Z&layer=CGS_S2_RADIOMETRY\", \"rel\": \"alternate\"}, {\"href\": \"https://services.terrascope.be/wmts/v2\", \"rel\": \"wmts\", \"wmts:layer\": \"CGS_S2_RADIOMETRY\"}, {\"href\": \"https://collections.eurodatacube.com/stac/sentinel-2-l2a.json\", \"rel\": \"self\"}, {\"href\": \"https://collections.eurodatacube.com/sentinel-2-l2a\", \"rel\": \"about\", \"title\": \"Website describing the collection\", \"type\": \"text/html\"}, {\"href\": \"https://services.sentinel-hub.com/ogc/wmts/7d34803f-511c-4caf-9438-6d72f32c8174\", \"rel\": \"wmts\", \"wmts:dimensions\": {\"warnings\": true}, \"wmts:layer\": \"TRUE-COLOR\"}, {\"href\": \"https://docs.sentinel-hub.com/api/latest/api/process/\", \"rel\": \"about\", \"title\": \"Details about running Evalscripts\", \"type\": \"text/html\"}, {\"href\": \"https://custom-scripts.sentinel-hub.com/sentinel-2/true_color/script.js\", \"rel\": \"processing-expression\", \"sentinelhub:layer_name\": \"True Color\", \"sentinelhub:mosaicking_order\": \"mostRecent\", \"sentinelhub:upsampling\": \"BICUBIC\", \"title\": \"Evalscript to generate True Color imagery\", \"type\": \"application/javascript\"}, {\"href\": \"https://custom-scripts.sentinel-hub.com/sentinel-2/false_color_infrared/script.js\", \"rel\": \"processing-expression\", \"sentinelhub:layer_name\": \"False color\", \"sentinelhub:mosaicking_order\": \"mostRecent\", \"sentinelhub:upsampling\": \"BICUBIC\", \"title\": \"Evalscript to generate False color imagery\", \"type\": \"application/javascript\"}, {\"href\": \"https://custom-scripts.sentinel-hub.com/sentinel-2/swir-rgb/script.js\", \"rel\": \"processing-expression\", \"sentinelhub:layer_name\": \"SWIR\", \"sentinelhub:mosaicking_order\": \"mostRecent\", \"sentinelhub:upsampling\": \"BICUBIC\", \"title\": \"Evalscript to generate Short Wave Infrared (SWIR) RGB Composite\", \"type\": \"application/javascript\"}, {\"href\": \"https://custom-scripts.sentinel-hub.com/sentinel-2/false-color-urban-rgb/script.js\", \"rel\": \"processing-expression\", \"sentinelhub:layer_name\": \"False Color Urban\", \"sentinelhub:mosaicking_order\": \"mostRecent\", \"sentinelhub:upsampling\": \"BICUBIC\", \"title\": \"Evalscript to generate False Color Urban imagery\", \"type\": \"application/javascript\"}, {\"href\": \"https://custom-scripts.sentinel-hub.com/sentinel-2/ndvi/script.js\", \"rel\": \"processing-expression\", \"sentinelhub:layer_name\": \"NDVI\", \"sentinelhub:mosaicking_order\": \"mostRecent\", \"sentinelhub:upsampling\": \"NEAREST\", \"title\": \"Evalscript to generate NDVI imagery\", \"type\": \"application/javascript\"}, {\"href\": \"https://custom-scripts.sentinel-hub.com/sentinel-2/ndmi/script.js\", \"rel\": \"processing-expression\", \"sentinelhub:layer_name\": \"NDMI\", \"sentinelhub:mosaicking_order\": \"mostRecent\", \"sentinelhub:upsampling\": \"NEAREST\", \"title\": \"Evalscript to generate NDMI imagery\", \"type\": \"application/javascript\"}, {\"href\": \"https://custom-scripts.sentinel-hub.com/sentinel-2/ndwi/script.js\", \"rel\": \"processing-expression\", \"sentinelhub:layer_name\": \"NDWI\", \"sentinelhub:mosaicking_order\": \"mostRecent\", \"sentinelhub:upsampling\": \"NEAREST\", \"title\": \"Evalscript to generate NDWI imagery\", \"type\": \"application/javascript\"}, {\"href\": \"https://custom-scripts.sentinel-hub.com/sentinel-2/ndsi-visualized/script.js\", \"rel\": \"processing-expression\", \"sentinelhub:layer_name\": \"NDSI\", \"sentinelhub:mosaicking_order\": \"mostRecent\", \"sentinelhub:upsampling\": \"NEAREST\", \"title\": \"Evalscript to generate NDSI imagery\", \"type\": \"application/javascript\"}, {\"href\": \"https://custom-scripts.sentinel-hub.com/sentinel-2/scene-classification/script.js\", \"rel\": \"processing-expression\", \"sentinelhub:layer_name\": \"Scene Classification\", \"sentinelhub:mosaicking_order\": \"mostRecent\", \"sentinelhub:upsampling\": \"BICUBIC\", \"title\": \"Evalscript to generate Scene Classification imagery\", \"type\": \"application/javascript\"}, {\"href\": \"https://sentinels.copernicus.eu/documents/247904/690755/Sentinel_Data_Legal_Notice\", \"rel\": \"license\", \"title\": \"License\", \"type\": \"application/pdf\"}, {\"href\": \"https://openeo.vito.be/openeo/1.1/collections\", \"rel\": \"root\"}, {\"href\": \"https://openeo.vito.be/openeo/1.1/collections\", \"rel\": \"parent\"}], \"providers\": [{\"name\": \"VITO, on behalf of the Belgian Science Policy Office (BELSPO).\", \"roles\": [\"producer\", \"licensor\"], \"url\": \"https://terrascope.be\"}, {\"description\": \"Europe since November 2016, Global since January 2017\", \"name\": \"Sentinel Hub\", \"roles\": [\"processor\"], \"url\": \"https://services.sentinel-hub.com\"}, {\"description\": \"Europe since July 2016\", \"name\": \"Sentinel Hub\", \"roles\": [\"processor\"], \"url\": \"https://shservices.mundiwebservices.com\"}], \"stac_extensions\": [\"https://stac-extensions.github.io/datacube/v2.2.0/schema.json\", \"https://stac-extensions.github.io/eo/v1.1.0/schema.json\"], \"stac_version\": \"0.9.0\", \"summaries\": {\"constellation\": [\"Sentinel-2\"], \"eo:bands\": [{\"aliases\": [\"TOC-B01_60M\"], \"common_name\": \"coastal aerosol\", \"gsd\": 60, \"name\": \"B01\", \"offset\": 0, \"scale\": 0.0001, \"type\": \"int16\", \"unit\": \"1\", \"wavelength_nm\": 442.7}, {\"aliases\": [\"TOC-B02_10M\"], \"center_wavelength\": 0.4966, \"common_name\": \"blue\", \"gsd\": 10, \"name\": \"B02\", \"offset\": 0, \"scale\": 0.0001, \"type\": \"int16\", \"unit\": \"1\", \"wavelength_nm\": 496.6}, {\"aliases\": [\"TOC-B03_10M\"], \"center_wavelength\": 0.56, \"common_name\": \"green\", \"gsd\": 10, \"name\": \"B03\", \"offset\": 0, \"scale\": 0.0001, \"type\": \"int16\", \"unit\": \"1\", \"wavelength_nm\": 560}, {\"aliases\": [\"TOC-B04_10M\"], \"center_wavelength\": 0.6645, \"common_name\": \"red\", \"gsd\": 10, \"name\": \"B04\", \"offset\": 0, \"scale\": 0.0001, \"type\": \"int16\", \"unit\": \"1\", \"wavelength_nm\": 664.5}, {\"aliases\": [\"TOC-B05_20M\"], \"common_name\": \"rededge\", \"gsd\": 20, \"name\": \"B05\", \"offset\": 0, \"scale\": 0.0001, \"type\": \"int16\", \"unit\": \"1\", \"wavelength_nm\": 704.1}, {\"aliases\": [\"TOC-B06_20M\"], \"common_name\": \"rededge\", \"gsd\": 20, \"name\": \"B06\", \"offset\": 0, \"scale\": 0.0001, \"type\": \"int16\", \"unit\": \"1\", \"wavelength_nm\": 740.5}, {\"aliases\": [\"TOC-B07_20M\"], \"common_name\": \"rededge\", \"gsd\": 20, \"name\": \"B07\", \"offset\": 0, \"scale\": 0.0001, \"type\": \"int16\", \"unit\": \"1\", \"wavelength_nm\": 782.8}, {\"aliases\": [\"TOC-B08_10M\"], \"center_wavelength\": 0.8351, \"common_name\": \"nir\", \"gsd\": 10, \"name\": \"B08\", \"offset\": 0, \"scale\": 0.0001, \"type\": \"int16\", \"unit\": \"1\", \"wavelength_nm\": 835.1}, {\"aliases\": [\"TOC-B8A_20M\"], \"gsd\": 20, \"name\": \"B8A\", \"offset\": 0, \"scale\": 0.0001, \"type\": \"int16\", \"unit\": \"1\", \"wavelength_nm\": 864.7}, {\"center_wavelength\": 0.9451, \"common_name\": \"nir09\", \"data_type\": \"uint16\", \"full_width_half_max\": 0.02, \"name\": \"B09\", \"openeo:gsd\": {\"unit\": \"m\", \"value\": [60, 60]}, \"statistics\": {\"maximum\": [4000], \"minimum\": [0]}}, {\"aliases\": [\"TOC-B11_20M\"], \"common_name\": \"swir\", \"gsd\": 20, \"name\": \"B11\", \"offset\": 0, \"scale\": 0.0001, \"type\": \"int16\", \"unit\": \"1\", \"wavelength_nm\": 1613.7}, {\"aliases\": [\"TOC-B12_20M\"], \"common_name\": \"swir\", \"gsd\": 20, \"name\": \"B12\", \"offset\": 0, \"scale\": 0.0001, \"type\": \"int16\", \"unit\": \"1\", \"wavelength_nm\": 2202.4}, {\"data_type\": \"float32\", \"description\": \"Aerosol Optical Thickness map, based on Sen2Cor processor\", \"name\": \"AOT\", \"openeo:gsd\": {\"unit\": \"m\", \"value\": [10, 10]}, \"statistics\": {\"maximum\": [0.6], \"minimum\": [0]}}, {\"aliases\": [\"SCENECLASSIFICATION_20M\"], \"gsd\": 20, \"name\": \"SCL\"}, {\"data_type\": \"uint8\", \"description\": \"Snow probability, based on Sen2Cor processor\", \"name\": \"SNW\", \"openeo:gsd\": {\"unit\": \"m\", \"value\": [20, 20]}, \"statistics\": {\"maximum\": [100], \"minimum\": [0]}}, {\"data_type\": \"uint8\", \"description\": \"Cloud probability, based on Sen2Cor processor\", \"name\": \"CLD\", \"openeo:gsd\": {\"unit\": \"m\", \"value\": [20, 20]}, \"statistics\": {\"maximum\": [100], \"minimum\": [0]}}, {\"data_type\": \"uint8\", \"description\": \"Cloud probability, based on s2cloudless\", \"name\": \"CLP\", \"openeo:gsd\": {\"unit\": \"m\", \"value\": [160, 160]}, \"statistics\": {\"maximum\": [255], \"minimum\": [0]}}, {\"data_type\": \"uint8\", \"description\": \"Cloud masks\", \"name\": \"CLM\", \"openeo:gsd\": {\"unit\": \"m\", \"value\": [160, 160]}, \"statistics\": [0, 1, 255]}, {\"data_type\": \"float32\", \"description\": \"Sun azimuth angle\", \"name\": \"sunAzimuthAngles\", \"openeo:gsd\": {\"unit\": \"m\", \"value\": [5000, 5000]}, \"statistics\": {\"maximum\": [200], \"minimum\": [30]}}, {\"aliases\": [\"SZA_60M\"], \"gsd\": 60, \"name\": \"sunZenithAngles\"}, {\"data_type\": \"float32\", \"description\": \"Viewing azimuth angle\", \"name\": \"viewAzimuthMean\", \"openeo:gsd\": {\"unit\": \"m\", \"value\": [5000, 5000]}, \"statistics\": {\"maximum\": [300], \"minimum\": [90]}}, {\"data_type\": \"float32\", \"description\": \"Viewing zenith angle\", \"name\": \"viewZenithMean\", \"openeo:gsd\": {\"unit\": \"m\", \"value\": [5000, 5000]}, \"statistics\": {\"maximum\": [12], \"minimum\": [0]}}, {\"data_type\": \"uint8\", \"description\": \"The mask of data/no data pixels.\", \"name\": \"dataMask\", \"statistics\": {\"maximum\": [1], \"minimum\": [0]}}, {\"aliases\": [\"RAA_60M\"], \"gsd\": 60, \"name\": \"relativeAzimuthAngles\"}, {\"aliases\": [\"VZA_60M\", \"viewZenithApproximate\"], \"gsd\": 60, \"name\": \"viewZenithAngles\"}], \"eo:cloud_cover\": {\"maximum\": 100, \"minimum\": 0}, \"eo:gsd\": [10, 20, 60], \"instruments\": [\"MSI\"], \"platform\": [\"Sentinel-2A\", \"Sentinel-2B\"]}, \"title\": \"Sentinel-2 top of canopy last 2 years over Europe + selected areas, by Terrascope.\"}}</script>\n",
       "    </openeo-collection>\n",
       "    "
      ],
      "text/plain": [
       "<openeo.metadata.CollectionMetadata at 0x7ff143204dc0>"
      ]
     },
     "execution_count": 2,
     "metadata": {},
     "output_type": "execute_result"
    }
   ],
   "source": [
    "import openeo\n",
    "\n",
    "# Fields close to TAP, Belgium\n",
    "SPATIAL_EXTENT = {\n",
    "    \"west\": 5.0516,\n",
    "    \"south\": 51.18682,\n",
    "    \"east\": 5.08832,\n",
    "    \"north\": 51.20527,\n",
    "    \"crs\": \"EPSG:4326\"\n",
    "}\n",
    "\n",
    "# Recent dates\n",
    "TEMPORAL_EXTENT = [\"2023-04-01\", \"2023-05-01\"]\n",
    "\n",
    "connection = openeo.connect('https://openeo.vito.be').authenticate_oidc()\n",
    "\n",
    "# cube = connection.load_stac(\n",
    "#     'https://earth-search.aws.element84.com/v1/collections/sentinel-2-l2a',\n",
    "#     SPATIAL_EXTENT,\n",
    "#     TEMPORAL_EXTENT,\n",
    "#     ['red', 'blue', 'green']\n",
    "# )\n",
    "\n",
    "cube = connection.load_collection(\n",
    "    'SENTINEL2_L2A',\n",
    "    SPATIAL_EXTENT,\n",
    "    TEMPORAL_EXTENT,\n",
    "    ['B04', 'B03', 'B02']\n",
    ")\n",
    "\n",
    "cube.metadata"
   ]
  },
  {
   "cell_type": "code",
   "execution_count": 6,
   "metadata": {},
   "outputs": [
    {
     "data": {
      "text/plain": [
       "\"CollectionMetadata({'spatial': {'bbox': [[-180, -56, 180, 83], [-180, -56, 180, 83]]}, 'temporal': {'interval': [['2015-07-06T00:00:00Z', None], ['2016-11-01T00:00:00Z', None]]}} - ['B04', 'B03', 'B02'] - ['bands', 't', 'x', 'y'])\""
      ]
     },
     "execution_count": 6,
     "metadata": {},
     "output_type": "execute_result"
    }
   ],
   "source": [
    "str(cube.metadata)"
   ]
  }
 ],
 "metadata": {
  "kernelspec": {
   "display_name": "gfmap",
   "language": "python",
   "name": "python3"
  },
  "language_info": {
   "codemirror_mode": {
    "name": "ipython",
    "version": 3
   },
   "file_extension": ".py",
   "mimetype": "text/x-python",
   "name": "python",
   "nbconvert_exporter": "python",
   "pygments_lexer": "ipython3",
   "version": "3.9.18"
  }
 },
 "nbformat": 4,
 "nbformat_minor": 2
}
